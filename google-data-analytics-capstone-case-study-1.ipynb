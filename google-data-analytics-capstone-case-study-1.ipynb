{
 "cells": [
  {
   "cell_type": "markdown",
   "id": "c4b6633f",
   "metadata": {
    "papermill": {
     "duration": 0.0092,
     "end_time": "2022-12-11T15:18:36.945067",
     "exception": false,
     "start_time": "2022-12-11T15:18:36.935867",
     "status": "completed"
    },
    "tags": []
   },
   "source": [
    "Date: 10/12/2022"
   ]
  },
  {
   "cell_type": "markdown",
   "id": "8de6af36",
   "metadata": {
    "papermill": {
     "duration": 0.007492,
     "end_time": "2022-12-11T15:18:36.960098",
     "exception": false,
     "start_time": "2022-12-11T15:18:36.952606",
     "status": "completed"
    },
    "tags": []
   },
   "source": [
    "# **Introduction:**\n",
    "This is my capstone project for the Google Data Analytics - Case Study 1. The full document to the case study can be found in the [Google Data Analytics Capstone: Complete a Case Study](https://www.coursera.org/learn/google-data-analytics-capstone) course.\n",
    "\n",
    "This project follows these steps which provided by the course.\n",
    "\n",
    "* The steps in order are as follows: Ask, Prepare, Process, Analyse, Share, and Act\n",
    "* At each step there will be a roadmap which will include:\n",
    "  * Code, if needed on the step.\n",
    "  * Guiding questions, with answers.\n",
    "  * Key tasks, as a checklist.\n",
    "  * Deliverable, as a checklist."
   ]
  },
  {
   "cell_type": "markdown",
   "id": "f7e63146",
   "metadata": {
    "papermill": {
     "duration": 0.007406,
     "end_time": "2022-12-11T15:18:36.974729",
     "exception": false,
     "start_time": "2022-12-11T15:18:36.967323",
     "status": "completed"
    },
    "tags": []
   },
   "source": [
    "# Scenario\n",
    "## Background context on the case study:\n",
    "You are a junior data analyst working in the marketing analyst team at Cyclistic, a bike-share company in Chicago. The director of marketing believes the company’s future success depends on maximizing the number of annual memberships. Therefore, your team wants to understand how casual riders and annual members use Cyclistic bikes differently. From these insights, your team will design a new marketing strategy to convert casual riders into annual members. But first, Cyclistic executives must approve your recommendations, so they must be backed up with compelling data insights and professional data visualizations.\n",
    "\n",
    "## Characters and teams:\n",
    "**● Cyclistic:** A bike-share program that features more than 5,800 bicycles and 600 docking stations. Cyclistic sets itself apart by also offering reclining bikes, hand tricycles, and cargo bikes, making bike-share more inclusive to people with disabilities and riders who can’t use a standard two-wheeled bike. The majority of riders opt for traditional bikes; about 8% of riders use the assistive options. Cyclistic users are more likely to ride for leisure, but about 30% use them to commute to work each day.\n",
    "\n",
    "**● Lily Moreno:** The director of marketing and your manager. Moreno is responsible for the development of campaigns and initiatives to promote the bike-share program. These may include email, social media, and other channels.\n",
    "\n",
    "**● Cyclistic marketing analytics team:** A team of data analysts who are responsible for collecting, analyzing, and reporting data that helps guide Cyclistic marketing strategy. You joined this team six months ago and have been busy learning about Cyclistic’s mission and business goals — as well as how you, as a junior data analyst, can help Cyclistic achieve them.\n",
    "\n",
    "**● Cyclistic executive team:** The notoriously detail-oriented executive team will decide whether to approve the recommended marketing program.\n",
    "\n",
    "## Guiding Questions:\n",
    "**•\tWhat is the problem you are trying to solve?**\n",
    "\n",
    "The main objective is to determine profiles for the annual members and the casual riders and use the information to create a marketing strategy to assist in turning casual riders into annual members.\n",
    "\n",
    "**•\tHow can your insights drive business decisions?**\n",
    "\n",
    "The insights will aid the marketing team in increasing the amount of annual members.\n",
    "\n",
    "## Key tasks\n",
    "1. Identify the business task (+)\n",
    "\n",
    "2. Consider key stakeholders (+)\n",
    "\n",
    "## Deliverable\n",
    "**•\tA clear statement of the business task**\n",
    "\n",
    "Determine the differences between annual members and casual riders and which marketing strategy to pursue to increase annual members.\n",
    "\n",
    "## Task\n",
    "Moreno has assigned you to answer: How do annual members and casual riders use Cyclistic bikes differently?"
   ]
  },
  {
   "cell_type": "markdown",
   "id": "9f162ea9",
   "metadata": {
    "papermill": {
     "duration": 0.00771,
     "end_time": "2022-12-11T15:18:36.990266",
     "exception": false,
     "start_time": "2022-12-11T15:18:36.982556",
     "status": "completed"
    },
    "tags": []
   },
   "source": [
    "# Ask\n",
    "## Guiding Questions:\n",
    "**•\tWhat is the problem you are trying to solve?**\n",
    "\n",
    "The main objective is to determine profiles for the annual members and the casual riders and create a marketing strategies aimed at converting casual riders into annual members.\n",
    "\n",
    "**•\tHow can your insights drive business decisions?**\n",
    "\n",
    "The insights will aid the marketing team to increase the number of annual members.\n",
    "\n",
    "## Key tasks\n",
    "1. Identify the business task (+)\n",
    "\n",
    "2. Consider key stakeholders (+)\n",
    "\n",
    "## Deliverable\n",
    "**•\tA clear statement of the business task**\n",
    "\n",
    "Observing the differences and similarities between casual riders and annual members using historical data to create a marketing strategies to increase annual members.\n"
   ]
  },
  {
   "cell_type": "markdown",
   "id": "c80a35f6",
   "metadata": {
    "papermill": {
     "duration": 0.007537,
     "end_time": "2022-12-11T15:18:37.005098",
     "exception": false,
     "start_time": "2022-12-11T15:18:36.997561",
     "status": "completed"
    },
    "tags": []
   },
   "source": [
    "# Prepare\n",
    "This dataset provided by Google. Contains 12 months (November 2021-2022) of Cyclistic trip data.\n",
    "\n",
    "## Guiding questions\n",
    "**•\tWhere is your data located?**\n",
    "\n",
    "The Dataset is made available by Motivate International Inc.\n",
    "\n",
    "**•\tHow is the data organized?**\n",
    "\n",
    "The data consists of 12 csv files. Each file contains the data of the month from which it is named.\n",
    "\n",
    "**•\tAre there issues with bias or credibility in this data? Does your data ROCCC?**\n",
    "\n",
    "The data is first-party data collected by Cyclist so there is low chance of bias but due to it being the companies own data. The data also does ROCCC as it is reliable, original, comprehensive, current, and cited.\n",
    "\n",
    "**•\tHow are you addressing licensing, privacy, security, and accessibility?**\n",
    "\n",
    "The company has their own licence over the dataset. The data also does not include any personal information regarding the riders to protect their privacy. Also the data is open source and provided by the company.\n",
    "\n",
    "**•\tHow did you verify the data’s integrity?**\n",
    "\n",
    "Certain data like station name or station id’s were missing in some months. Moreover, starting and ending latitude/longitudes were not right. Except for these columns, all data was consistent and accurate.\n",
    "\n",
    "**•\tHow does it help you answer your question?**\n",
    "\n",
    "It may have some key insights about the riders and their riding style\n",
    "\n",
    "**•\tAre there any problems with the data?**\n",
    "\n",
    "Some months does not have station name or station id’s. And ending latitude/longitudes were not right shape.\n",
    "\n",
    "## Key tasks:\n",
    "**1.\tDownload data and store it appropriately** (+)\n",
    "\n",
    "**2.\tIdentify how it’s organised** (+)\n",
    "\n",
    "**3.\tSort and filter the data.** (+)\n",
    "\n",
    "**4.\tDetermine the credibility of the data.** (+)  \n",
    "\n",
    "## Deliverable\n",
    "*** A description of all data sources used**\n",
    "\n",
    "This data has is 12 months (Between November 2021-2022) of riding data provided by the Cicylistic company."
   ]
  },
  {
   "cell_type": "markdown",
   "id": "b8f56524",
   "metadata": {
    "papermill": {
     "duration": 0.007545,
     "end_time": "2022-12-11T15:18:37.019955",
     "exception": false,
     "start_time": "2022-12-11T15:18:37.012410",
     "status": "completed"
    },
    "tags": []
   },
   "source": [
    "# Process\n",
    "\n",
    "All the CVS files will be merged into one file. Then additional columns will be added and file will be cleaned. \n",
    "\n",
    "## Guiding questions\n",
    "\n",
    "* What tools are you choosing and why? \n",
    "\n",
    "Excel and R has been used. Adding new columns are easy to use with Excel, and continued indepth analysis, manipulation and visualization are done with R.\n",
    "\n",
    "* Have you ensured your data’s integrity? \n",
    "\n",
    "Columns have been examined after any manipulation.\n",
    "\n",
    "* What steps have you taken to ensure that your data is clean? \n",
    "\n",
    "First, columns were formatted. Then, unusable Columns have been removed. Last, the NA's and duplicates were removed.\n",
    "\n",
    "* How can you verify that your data is clean and ready to analyze? \n",
    "\n",
    "Only planned full data were used. Remaining NA values, duplicate values, or incorrectly formatted data were removed. This proves that my data is clean and ready to analyze.\n",
    "\n",
    "* Have you documented your cleaning process so you can review and share those results?\n",
    "\n",
    "The cleaning process has been documented.\n",
    "\n",
    "## Key tasks\n",
    "\n",
    "1. Check the data for errors. (+)\n",
    "2. Choose your tools. (+)\n",
    "3. Transform the data so you can work with it effectively. (+)\n",
    "4. Document the cleaning process. (+)\n",
    "\n",
    "## Deliverable\n",
    "\n",
    "Documentation of any cleaning or manipulation of data (+)"
   ]
  },
  {
   "cell_type": "markdown",
   "id": "9b4c2cc7",
   "metadata": {
    "papermill": {
     "duration": 0.007482,
     "end_time": "2022-12-11T15:18:37.034784",
     "exception": false,
     "start_time": "2022-12-11T15:18:37.027302",
     "status": "completed"
    },
    "tags": []
   },
   "source": [
    "# Analyze\n",
    "Analyzing the data for find the differences between the annual members and casual riders, and build a profile for annual members.\n",
    "## Guiding questions\n",
    "* How should you organize your data to perform analysis on it?\n",
    "\n",
    "Columns should be formatted. Unusable Columns should be removed. The NA's and duplicates should be removed. Last, wrong or corrupted datas should be cleared.\n",
    "* Has your data been properly formatted?\n",
    "\n",
    "Yes, it has been properly formatted on Process part.\n",
    "* What surprises did you discover in the data?\n",
    "\n",
    "While doing the transformations in my mind, I saw unexpected results.\n",
    "* What trends or relationships did you find in the data?\n",
    "\n",
    "There were different usage trends in certain months, locations and weekdays.\n",
    "## Key tasks\n",
    "1. Aggregate your data so it’s useful and accessible. (+)\n",
    "2. Organize and format your data. (+)\n",
    "3. Perform calculations. (+)\n",
    "4. Identify trends and relationships. (+)\n",
    "\n",
    "## Deliverable\n",
    "Summary has been written at the conclusion part.\n"
   ]
  },
  {
   "cell_type": "markdown",
   "id": "1b3343b1",
   "metadata": {
    "papermill": {
     "duration": 0.007476,
     "end_time": "2022-12-11T15:18:37.049689",
     "exception": false,
     "start_time": "2022-12-11T15:18:37.042213",
     "status": "completed"
    },
    "tags": []
   },
   "source": [
    "# Share\n",
    "\n",
    "## Guiding questions\n",
    "* Were you able to answer the question of how annual members and casual riders use Cyclistic bikes differently?\n",
    "\n",
    "Yes.\n",
    "* What story does your data tell?\n",
    "\n",
    "Shows me similarities and differences between the annual members and casual riders.\n",
    "* How do your findings relate to your original question?\n",
    "\n",
    "I believe that what is asked in the original question can be reached with the analyzes I have made.\n",
    "* Who is your audience? What is the best way to communicate with them?\n",
    "\n",
    "By looking at the data we have, we can only distinguish the audience as users of different profile types.\n",
    "* Can data visualization help you share your findings?\n",
    "\n",
    "Yes.\n",
    "* Is your presentation accessible to your audience?\n",
    "\n",
    "No.\n",
    "\n",
    "## Key tasks\n",
    "1. Determine the best way to share your findings. (+)\n",
    "2. Create effective data visualizations. (+)\n",
    "3. Present your findings. (+)\n",
    "4. Ensure your work is accessible. (+)\n",
    "\n",
    "## Deliverable\n",
    "Supporting visualizations and key findings has been written at the visualization part.\n"
   ]
  },
  {
   "cell_type": "markdown",
   "id": "8c935d17",
   "metadata": {
    "papermill": {
     "duration": 0.007459,
     "end_time": "2022-12-11T15:18:37.064376",
     "exception": false,
     "start_time": "2022-12-11T15:18:37.056917",
     "status": "completed"
    },
    "tags": []
   },
   "source": [
    "# Act\n",
    "## Guiding questions\n",
    "* What is your final conclusion based on your analysis?\n",
    "\n",
    "My final conclusion is we found consistent differences between user profiles. With these results, the answers to the questions asked from us were given.\n",
    "* What next steps would you or your stakeholders take based on your findings?\n",
    "\n",
    "Presentations can be made for stakeholders.\n",
    "* Is there additional data you could use to expand on your findings?\n",
    "\n",
    "No.\n",
    "\n",
    "## Key tasks\n",
    "1. Create your portfolio. (+)\n",
    "2. Add your case study. (+)\n",
    "3. Practice presenting your case study to a friend or family member. (+)\n",
    "\n",
    "## Deliverable\n",
    "Recommendations is on conclusion part.\n"
   ]
  },
  {
   "cell_type": "markdown",
   "id": "37436b03",
   "metadata": {
    "papermill": {
     "duration": 0.007503,
     "end_time": "2022-12-11T15:18:37.079397",
     "exception": false,
     "start_time": "2022-12-11T15:18:37.071894",
     "status": "completed"
    },
    "tags": []
   },
   "source": [
    "# Code"
   ]
  },
  {
   "cell_type": "code",
   "execution_count": 1,
   "id": "cc2d4b40",
   "metadata": {
    "execution": {
     "iopub.execute_input": "2022-12-11T15:18:37.107733Z",
     "iopub.status.busy": "2022-12-11T15:18:37.105596Z",
     "iopub.status.idle": "2022-12-11T15:18:39.084449Z",
     "shell.execute_reply": "2022-12-11T15:18:39.082822Z"
    },
    "papermill": {
     "duration": 1.999852,
     "end_time": "2022-12-11T15:18:39.086951",
     "exception": false,
     "start_time": "2022-12-11T15:18:37.087099",
     "status": "completed"
    },
    "tags": []
   },
   "outputs": [
    {
     "name": "stderr",
     "output_type": "stream",
     "text": [
      "── \u001b[1mAttaching packages\u001b[22m ─────────────────────────────────────── tidyverse 1.3.2 ──\n",
      "\u001b[32m✔\u001b[39m \u001b[34mggplot2\u001b[39m 3.3.6      \u001b[32m✔\u001b[39m \u001b[34mpurrr  \u001b[39m 0.3.5 \n",
      "\u001b[32m✔\u001b[39m \u001b[34mtibble \u001b[39m 3.1.8      \u001b[32m✔\u001b[39m \u001b[34mdplyr  \u001b[39m 1.0.10\n",
      "\u001b[32m✔\u001b[39m \u001b[34mtidyr  \u001b[39m 1.2.1      \u001b[32m✔\u001b[39m \u001b[34mstringr\u001b[39m 1.4.1 \n",
      "\u001b[32m✔\u001b[39m \u001b[34mreadr  \u001b[39m 2.1.3      \u001b[32m✔\u001b[39m \u001b[34mforcats\u001b[39m 0.5.2 \n",
      "── \u001b[1mConflicts\u001b[22m ────────────────────────────────────────── tidyverse_conflicts() ──\n",
      "\u001b[31m✖\u001b[39m \u001b[34mdplyr\u001b[39m::\u001b[32mfilter()\u001b[39m masks \u001b[34mstats\u001b[39m::filter()\n",
      "\u001b[31m✖\u001b[39m \u001b[34mdplyr\u001b[39m::\u001b[32mlag()\u001b[39m    masks \u001b[34mstats\u001b[39m::lag()\n",
      "\n",
      "Attaching package: ‘janitor’\n",
      "\n",
      "\n",
      "The following objects are masked from ‘package:stats’:\n",
      "\n",
      "    chisq.test, fisher.test\n",
      "\n",
      "\n",
      "\n",
      "Attaching package: ‘lubridate’\n",
      "\n",
      "\n",
      "The following objects are masked from ‘package:base’:\n",
      "\n",
      "    date, intersect, setdiff, union\n",
      "\n",
      "\n",
      "------------------------------------------------------------------------------\n",
      "\n",
      "You have loaded plyr after dplyr - this is likely to cause problems.\n",
      "If you need functions from both plyr and dplyr, please load plyr first, then dplyr:\n",
      "library(plyr); library(dplyr)\n",
      "\n",
      "------------------------------------------------------------------------------\n",
      "\n",
      "\n",
      "Attaching package: ‘plyr’\n",
      "\n",
      "\n",
      "The following objects are masked from ‘package:dplyr’:\n",
      "\n",
      "    arrange, count, desc, failwith, id, mutate, rename, summarise,\n",
      "    summarize\n",
      "\n",
      "\n",
      "The following object is masked from ‘package:purrr’:\n",
      "\n",
      "    compact\n",
      "\n",
      "\n"
     ]
    }
   ],
   "source": [
    "library(tidyverse)\n",
    "library(janitor)\n",
    "library(lubridate)\n",
    "library(ggplot2)\n",
    "library(rio) # to import data\n",
    "library(plyr) # to rbind function"
   ]
  },
  {
   "cell_type": "code",
   "execution_count": 2,
   "id": "a393782a",
   "metadata": {
    "execution": {
     "iopub.execute_input": "2022-12-11T15:18:39.139944Z",
     "iopub.status.busy": "2022-12-11T15:18:39.106024Z",
     "iopub.status.idle": "2022-12-11T15:19:23.648573Z",
     "shell.execute_reply": "2022-12-11T15:19:23.646606Z"
    },
    "papermill": {
     "duration": 44.560273,
     "end_time": "2022-12-11T15:19:23.656333",
     "exception": false,
     "start_time": "2022-12-11T15:18:39.096060",
     "status": "completed"
    },
    "tags": []
   },
   "outputs": [
    {
     "name": "stdout",
     "output_type": "stream",
     "text": [
      "'data.frame':\t5755694 obs. of  15 variables:\n",
      " $ ride_id           : chr  \"7C00A93E10556E47\" \"90854840DFD508BA\" \"0A7D10CDD144061C\" \"2F3BE33085BCFF02\" ...\n",
      " $ rideable_type     : chr  \"electric_bike\" \"electric_bike\" \"electric_bike\" \"electric_bike\" ...\n",
      " $ day_of_week       : num  7 7 6 7 6 6 7 7 7 7 ...\n",
      " $ started_at        : POSIXct, format: \"2021-11-27 13:27:38\" \"2021-11-27 13:38:25\" ...\n",
      " $ ended_at          : POSIXct, format: \"2021-11-27 13:46:38\" \"2021-11-27 13:56:10\" ...\n",
      " $ ride_length       : POSIXct, format: \"1899-12-31 00:19:00\" \"1899-12-31 00:17:45\" ...\n",
      " $ start_station_name: chr  NA NA NA NA ...\n",
      " $ start_station_id  : chr  NA NA NA NA ...\n",
      " $ end_station_name  : chr  NA NA NA NA ...\n",
      " $ end_station_id    : chr  NA NA NA NA ...\n",
      " $ start_lat         : chr  \"41.93\" \"41.96\" \"41.96\" \"41.94\" ...\n",
      " $ start_lng         : chr  \"-87.72\" \"-87.7\" \"-87.7\" \"-87.79\" ...\n",
      " $ end_lat           : chr  \"41.96\" \"41.92\" \"41.96\" \"41.93\" ...\n",
      " $ end_lng           : chr  \"-87.73\" \"-87.7\" \"-87.7\" \"-87.79\" ...\n",
      " $ member_casual     : chr  \"casual\" \"casual\" \"casual\" \"casual\" ...\n"
     ]
    }
   ],
   "source": [
    "# Reading data\n",
    "path <- '/kaggle/input/divvytripdata202111202210/divvytripdata21_11-22_10.Rda'\n",
    "load(file=path)\n",
    "str(df)"
   ]
  },
  {
   "cell_type": "markdown",
   "id": "3f18aa32",
   "metadata": {
    "papermill": {
     "duration": 0.008283,
     "end_time": "2022-12-11T15:19:23.672657",
     "exception": false,
     "start_time": "2022-12-11T15:19:23.664374",
     "status": "completed"
    },
    "tags": []
   },
   "source": [
    "## Data Cleaning"
   ]
  },
  {
   "cell_type": "code",
   "execution_count": 3,
   "id": "ec3f4b19",
   "metadata": {
    "execution": {
     "iopub.execute_input": "2022-12-11T15:19:23.692794Z",
     "iopub.status.busy": "2022-12-11T15:19:23.691078Z",
     "iopub.status.idle": "2022-12-11T15:19:48.093842Z",
     "shell.execute_reply": "2022-12-11T15:19:48.092002Z"
    },
    "papermill": {
     "duration": 24.416963,
     "end_time": "2022-12-11T15:19:48.097885",
     "exception": false,
     "start_time": "2022-12-11T15:19:23.680922",
     "status": "completed"
    },
    "tags": []
   },
   "outputs": [],
   "source": [
    "# Deleted Unusable Columns\n",
    "df = subset(df, select = -c(start_lat,start_lng,end_lat,end_lng,start_station_id,end_station_id) )\n",
    "\n",
    "## Dropping NA values\n",
    "df <- drop_na(df)\n",
    "\n",
    "# Dropping duplicate values.\n",
    "df <- df[!duplicated(df$ride_id),]\n",
    "\n",
    "# Parcing the date as month, day, and year to make further analysis\n",
    "df$month <- format(as.Date(df$started_at), \"%b\")\n",
    "df$day <- format(as.Date(df$started_at), \"%d\")\n",
    "df$year <- format(as.Date(df$started_at), \"%Y\")\n",
    "\n",
    "# Calculating the ride length as minutes.\n",
    "df <- mutate(df, ride_length = difftime(ended_at, started_at, units = \"mins\"))\n",
    "\n",
    "#Mapping Week days\n",
    "df$day_of_week <- mapvalues(df$day_of_week, \n",
    "                                 from = c(1,2,3,4,5,6,7),\n",
    "                                 to = c(\"Sunday\",\"Monday\", \"Tuesday\", \"Wednesday\", \"Thursday\", \"Friday\", \"Saturday\"))\n",
    "\n",
    "\n",
    "# Cleaning ride lenght's which are lower than 0\n",
    "df <- df[!df$ride_length <0,]\n",
    "\n"
   ]
  },
  {
   "cell_type": "code",
   "execution_count": 4,
   "id": "4312f5a8",
   "metadata": {
    "execution": {
     "iopub.execute_input": "2022-12-11T15:19:48.119081Z",
     "iopub.status.busy": "2022-12-11T15:19:48.117567Z",
     "iopub.status.idle": "2022-12-11T15:19:48.156799Z",
     "shell.execute_reply": "2022-12-11T15:19:48.154780Z"
    },
    "papermill": {
     "duration": 0.053037,
     "end_time": "2022-12-11T15:19:48.160101",
     "exception": false,
     "start_time": "2022-12-11T15:19:48.107064",
     "status": "completed"
    },
    "tags": []
   },
   "outputs": [
    {
     "name": "stdout",
     "output_type": "stream",
     "text": [
      "'data.frame':\t4410362 obs. of  12 variables:\n",
      " $ ride_id           : chr  \"4CA9676997DAFFF6\" \"F3E84A230AF2D676\" \"A1F2C92308007968\" \"9B871C3B14E9BEC4\" ...\n",
      " $ rideable_type     : chr  \"classic_bike\" \"classic_bike\" \"electric_bike\" \"classic_bike\" ...\n",
      " $ day_of_week       : chr  \"Friday\" \"Monday\" \"Wednesday\" \"Tuesday\" ...\n",
      " $ started_at        : POSIXct, format: \"2021-11-26 10:27:28\" \"2021-11-15 09:35:03\" ...\n",
      " $ ended_at          : POSIXct, format: \"2021-11-26 11:22:13\" \"2021-11-15 09:42:08\" ...\n",
      " $ ride_length       : 'difftime' num  54.75 7.08333333333333 37.4333333333333 19.6833333333333 ...\n",
      "  ..- attr(*, \"units\")= chr \"mins\"\n",
      " $ start_station_name: chr  \"Michigan Ave & Oak St\" \"Clark St & Grace St\" \"Leamington Ave & Hirsch St\" \"Desplaines St & Kinzie St\" ...\n",
      " $ end_station_name  : chr  \"Michigan Ave & Oak St\" \"Clark St & Leland Ave\" \"Leamington Ave & Hirsch St\" \"Desplaines St & Kinzie St\" ...\n",
      " $ member_casual     : chr  \"casual\" \"casual\" \"casual\" \"casual\" ...\n",
      " $ month             : chr  \"Nov\" \"Nov\" \"Nov\" \"Nov\" ...\n",
      " $ day               : chr  \"26\" \"15\" \"10\" \"09\" ...\n",
      " $ year              : chr  \"2021\" \"2021\" \"2021\" \"2021\" ...\n"
     ]
    }
   ],
   "source": [
    "str(df)"
   ]
  },
  {
   "cell_type": "code",
   "execution_count": 5,
   "id": "6c112540",
   "metadata": {
    "execution": {
     "iopub.execute_input": "2022-12-11T15:19:48.181576Z",
     "iopub.status.busy": "2022-12-11T15:19:48.180058Z",
     "iopub.status.idle": "2022-12-11T15:19:48.214275Z",
     "shell.execute_reply": "2022-12-11T15:19:48.212511Z"
    },
    "papermill": {
     "duration": 0.047437,
     "end_time": "2022-12-11T15:19:48.216995",
     "exception": false,
     "start_time": "2022-12-11T15:19:48.169558",
     "status": "completed"
    },
    "tags": []
   },
   "outputs": [
    {
     "data": {
      "text/html": [
       "<table class=\"dataframe\">\n",
       "<caption>A data.frame: 6 × 12</caption>\n",
       "<thead>\n",
       "\t<tr><th></th><th scope=col>ride_id</th><th scope=col>rideable_type</th><th scope=col>day_of_week</th><th scope=col>started_at</th><th scope=col>ended_at</th><th scope=col>ride_length</th><th scope=col>start_station_name</th><th scope=col>end_station_name</th><th scope=col>member_casual</th><th scope=col>month</th><th scope=col>day</th><th scope=col>year</th></tr>\n",
       "\t<tr><th></th><th scope=col>&lt;chr&gt;</th><th scope=col>&lt;chr&gt;</th><th scope=col>&lt;chr&gt;</th><th scope=col>&lt;dttm&gt;</th><th scope=col>&lt;dttm&gt;</th><th scope=col>&lt;drtn&gt;</th><th scope=col>&lt;chr&gt;</th><th scope=col>&lt;chr&gt;</th><th scope=col>&lt;chr&gt;</th><th scope=col>&lt;chr&gt;</th><th scope=col>&lt;chr&gt;</th><th scope=col>&lt;chr&gt;</th></tr>\n",
       "</thead>\n",
       "<tbody>\n",
       "\t<tr><th scope=row>1</th><td>4CA9676997DAFFF6</td><td>classic_bike </td><td><span style=white-space:pre-wrap>Friday   </span></td><td>2021-11-26 10:27:28</td><td>2021-11-26 11:22:13</td><td>54.750000 mins</td><td><span style=white-space:pre-wrap>Michigan Ave &amp; Oak St     </span></td><td><span style=white-space:pre-wrap>Michigan Ave &amp; Oak St     </span></td><td>casual</td><td>Nov</td><td>26</td><td>2021</td></tr>\n",
       "\t<tr><th scope=row>2</th><td>F3E84A230AF2D676</td><td>classic_bike </td><td><span style=white-space:pre-wrap>Monday   </span></td><td>2021-11-15 09:35:03</td><td>2021-11-15 09:42:08</td><td> 7.083333 mins</td><td><span style=white-space:pre-wrap>Clark St &amp; Grace St       </span></td><td><span style=white-space:pre-wrap>Clark St &amp; Leland Ave     </span></td><td>casual</td><td>Nov</td><td>15</td><td>2021</td></tr>\n",
       "\t<tr><th scope=row>3</th><td>A1F2C92308007968</td><td>electric_bike</td><td>Wednesday</td><td>2021-11-10 16:27:02</td><td>2021-11-10 17:04:28</td><td>37.433333 mins</td><td>Leamington Ave &amp; Hirsch St</td><td>Leamington Ave &amp; Hirsch St</td><td>casual</td><td>Nov</td><td>10</td><td>2021</td></tr>\n",
       "\t<tr><th scope=row>4</th><td>9B871C3B14E9BEC4</td><td>classic_bike </td><td><span style=white-space:pre-wrap>Tuesday  </span></td><td>2021-11-09 19:51:36</td><td>2021-11-09 20:11:17</td><td>19.683333 mins</td><td>Desplaines St &amp; Kinzie St </td><td>Desplaines St &amp; Kinzie St </td><td>casual</td><td>Nov</td><td>09</td><td>2021</td></tr>\n",
       "\t<tr><th scope=row>5</th><td>2A81E957DD24A3DC</td><td>classic_bike </td><td>Saturday </td><td>2021-11-06 19:14:10</td><td>2021-11-06 19:33:19</td><td>19.150000 mins</td><td>Larrabee St &amp; Armitage Ave</td><td><span style=white-space:pre-wrap>Michigan Ave &amp; Oak St     </span></td><td>casual</td><td>Nov</td><td>06</td><td>2021</td></tr>\n",
       "\t<tr><th scope=row>6</th><td>A57F8F504A01004E</td><td>electric_bike</td><td>Thursday </td><td>2021-11-18 11:58:24</td><td>2021-11-18 12:08:35</td><td>10.183333 mins</td><td><span style=white-space:pre-wrap>Michigan Ave &amp; Oak St     </span></td><td><span style=white-space:pre-wrap>Michigan Ave &amp; Oak St     </span></td><td>casual</td><td>Nov</td><td>18</td><td>2021</td></tr>\n",
       "</tbody>\n",
       "</table>\n"
      ],
      "text/latex": [
       "A data.frame: 6 × 12\n",
       "\\begin{tabular}{r|llllllllllll}\n",
       "  & ride\\_id & rideable\\_type & day\\_of\\_week & started\\_at & ended\\_at & ride\\_length & start\\_station\\_name & end\\_station\\_name & member\\_casual & month & day & year\\\\\n",
       "  & <chr> & <chr> & <chr> & <dttm> & <dttm> & <drtn> & <chr> & <chr> & <chr> & <chr> & <chr> & <chr>\\\\\n",
       "\\hline\n",
       "\t1 & 4CA9676997DAFFF6 & classic\\_bike  & Friday    & 2021-11-26 10:27:28 & 2021-11-26 11:22:13 & 54.750000 mins & Michigan Ave \\& Oak St      & Michigan Ave \\& Oak St      & casual & Nov & 26 & 2021\\\\\n",
       "\t2 & F3E84A230AF2D676 & classic\\_bike  & Monday    & 2021-11-15 09:35:03 & 2021-11-15 09:42:08 &  7.083333 mins & Clark St \\& Grace St        & Clark St \\& Leland Ave      & casual & Nov & 15 & 2021\\\\\n",
       "\t3 & A1F2C92308007968 & electric\\_bike & Wednesday & 2021-11-10 16:27:02 & 2021-11-10 17:04:28 & 37.433333 mins & Leamington Ave \\& Hirsch St & Leamington Ave \\& Hirsch St & casual & Nov & 10 & 2021\\\\\n",
       "\t4 & 9B871C3B14E9BEC4 & classic\\_bike  & Tuesday   & 2021-11-09 19:51:36 & 2021-11-09 20:11:17 & 19.683333 mins & Desplaines St \\& Kinzie St  & Desplaines St \\& Kinzie St  & casual & Nov & 09 & 2021\\\\\n",
       "\t5 & 2A81E957DD24A3DC & classic\\_bike  & Saturday  & 2021-11-06 19:14:10 & 2021-11-06 19:33:19 & 19.150000 mins & Larrabee St \\& Armitage Ave & Michigan Ave \\& Oak St      & casual & Nov & 06 & 2021\\\\\n",
       "\t6 & A57F8F504A01004E & electric\\_bike & Thursday  & 2021-11-18 11:58:24 & 2021-11-18 12:08:35 & 10.183333 mins & Michigan Ave \\& Oak St      & Michigan Ave \\& Oak St      & casual & Nov & 18 & 2021\\\\\n",
       "\\end{tabular}\n"
      ],
      "text/markdown": [
       "\n",
       "A data.frame: 6 × 12\n",
       "\n",
       "| <!--/--> | ride_id &lt;chr&gt; | rideable_type &lt;chr&gt; | day_of_week &lt;chr&gt; | started_at &lt;dttm&gt; | ended_at &lt;dttm&gt; | ride_length &lt;drtn&gt; | start_station_name &lt;chr&gt; | end_station_name &lt;chr&gt; | member_casual &lt;chr&gt; | month &lt;chr&gt; | day &lt;chr&gt; | year &lt;chr&gt; |\n",
       "|---|---|---|---|---|---|---|---|---|---|---|---|---|\n",
       "| 1 | 4CA9676997DAFFF6 | classic_bike  | Friday    | 2021-11-26 10:27:28 | 2021-11-26 11:22:13 | 54.750000 mins | Michigan Ave &amp; Oak St      | Michigan Ave &amp; Oak St      | casual | Nov | 26 | 2021 |\n",
       "| 2 | F3E84A230AF2D676 | classic_bike  | Monday    | 2021-11-15 09:35:03 | 2021-11-15 09:42:08 |  7.083333 mins | Clark St &amp; Grace St        | Clark St &amp; Leland Ave      | casual | Nov | 15 | 2021 |\n",
       "| 3 | A1F2C92308007968 | electric_bike | Wednesday | 2021-11-10 16:27:02 | 2021-11-10 17:04:28 | 37.433333 mins | Leamington Ave &amp; Hirsch St | Leamington Ave &amp; Hirsch St | casual | Nov | 10 | 2021 |\n",
       "| 4 | 9B871C3B14E9BEC4 | classic_bike  | Tuesday   | 2021-11-09 19:51:36 | 2021-11-09 20:11:17 | 19.683333 mins | Desplaines St &amp; Kinzie St  | Desplaines St &amp; Kinzie St  | casual | Nov | 09 | 2021 |\n",
       "| 5 | 2A81E957DD24A3DC | classic_bike  | Saturday  | 2021-11-06 19:14:10 | 2021-11-06 19:33:19 | 19.150000 mins | Larrabee St &amp; Armitage Ave | Michigan Ave &amp; Oak St      | casual | Nov | 06 | 2021 |\n",
       "| 6 | A57F8F504A01004E | electric_bike | Thursday  | 2021-11-18 11:58:24 | 2021-11-18 12:08:35 | 10.183333 mins | Michigan Ave &amp; Oak St      | Michigan Ave &amp; Oak St      | casual | Nov | 18 | 2021 |\n",
       "\n"
      ],
      "text/plain": [
       "  ride_id          rideable_type day_of_week started_at         \n",
       "1 4CA9676997DAFFF6 classic_bike  Friday      2021-11-26 10:27:28\n",
       "2 F3E84A230AF2D676 classic_bike  Monday      2021-11-15 09:35:03\n",
       "3 A1F2C92308007968 electric_bike Wednesday   2021-11-10 16:27:02\n",
       "4 9B871C3B14E9BEC4 classic_bike  Tuesday     2021-11-09 19:51:36\n",
       "5 2A81E957DD24A3DC classic_bike  Saturday    2021-11-06 19:14:10\n",
       "6 A57F8F504A01004E electric_bike Thursday    2021-11-18 11:58:24\n",
       "  ended_at            ride_length    start_station_name        \n",
       "1 2021-11-26 11:22:13 54.750000 mins Michigan Ave & Oak St     \n",
       "2 2021-11-15 09:42:08  7.083333 mins Clark St & Grace St       \n",
       "3 2021-11-10 17:04:28 37.433333 mins Leamington Ave & Hirsch St\n",
       "4 2021-11-09 20:11:17 19.683333 mins Desplaines St & Kinzie St \n",
       "5 2021-11-06 19:33:19 19.150000 mins Larrabee St & Armitage Ave\n",
       "6 2021-11-18 12:08:35 10.183333 mins Michigan Ave & Oak St     \n",
       "  end_station_name           member_casual month day year\n",
       "1 Michigan Ave & Oak St      casual        Nov   26  2021\n",
       "2 Clark St & Leland Ave      casual        Nov   15  2021\n",
       "3 Leamington Ave & Hirsch St casual        Nov   10  2021\n",
       "4 Desplaines St & Kinzie St  casual        Nov   09  2021\n",
       "5 Michigan Ave & Oak St      casual        Nov   06  2021\n",
       "6 Michigan Ave & Oak St      casual        Nov   18  2021"
      ]
     },
     "metadata": {},
     "output_type": "display_data"
    }
   ],
   "source": [
    "head(df)"
   ]
  },
  {
   "cell_type": "code",
   "execution_count": 6,
   "id": "99e5f803",
   "metadata": {
    "execution": {
     "iopub.execute_input": "2022-12-11T15:19:48.238831Z",
     "iopub.status.busy": "2022-12-11T15:19:48.237293Z",
     "iopub.status.idle": "2022-12-11T15:19:48.253581Z",
     "shell.execute_reply": "2022-12-11T15:19:48.251604Z"
    },
    "papermill": {
     "duration": 0.029839,
     "end_time": "2022-12-11T15:19:48.256162",
     "exception": false,
     "start_time": "2022-12-11T15:19:48.226323",
     "status": "completed"
    },
    "tags": []
   },
   "outputs": [
    {
     "name": "stdout",
     "output_type": "stream",
     "text": [
      "[1] 4410362\n"
     ]
    }
   ],
   "source": [
    "#Number of rows\n",
    "print(nrow(df))"
   ]
  },
  {
   "cell_type": "markdown",
   "id": "9c13ce7b",
   "metadata": {
    "papermill": {
     "duration": 0.008652,
     "end_time": "2022-12-11T15:19:48.273626",
     "exception": false,
     "start_time": "2022-12-11T15:19:48.264974",
     "status": "completed"
    },
    "tags": []
   },
   "source": [
    "# Data Analyzing"
   ]
  },
  {
   "cell_type": "code",
   "execution_count": 7,
   "id": "a4649769",
   "metadata": {
    "execution": {
     "iopub.execute_input": "2022-12-11T15:19:48.294415Z",
     "iopub.status.busy": "2022-12-11T15:19:48.292837Z",
     "iopub.status.idle": "2022-12-11T15:19:49.603926Z",
     "shell.execute_reply": "2022-12-11T15:19:49.601834Z"
    },
    "papermill": {
     "duration": 1.324754,
     "end_time": "2022-12-11T15:19:49.606923",
     "exception": false,
     "start_time": "2022-12-11T15:19:48.282169",
     "status": "completed"
    },
    "tags": []
   },
   "outputs": [
    {
     "data": {
      "text/html": [
       "<table class=\"dataframe\">\n",
       "<caption>A data.frame: 1 × 3</caption>\n",
       "<thead>\n",
       "\t<tr><th></th><th scope=col>average_ride_length</th><th scope=col>median_ride_length</th><th scope=col>max_ride_length</th></tr>\n",
       "\t<tr><th></th><th scope=col>&lt;drtn&gt;</th><th scope=col>&lt;drtn&gt;</th><th scope=col>&lt;drtn&gt;</th></tr>\n",
       "</thead>\n",
       "<tbody>\n",
       "\t<tr><th scope=row>1</th><td>17.24258 mins</td><td>10.66667 mins</td><td>34354.07 mins</td></tr>\n",
       "</tbody>\n",
       "</table>\n"
      ],
      "text/latex": [
       "A data.frame: 1 × 3\n",
       "\\begin{tabular}{r|lll}\n",
       "  & average\\_ride\\_length & median\\_ride\\_length & max\\_ride\\_length\\\\\n",
       "  & <drtn> & <drtn> & <drtn>\\\\\n",
       "\\hline\n",
       "\t1 & 17.24258 mins & 10.66667 mins & 34354.07 mins\\\\\n",
       "\\end{tabular}\n"
      ],
      "text/markdown": [
       "\n",
       "A data.frame: 1 × 3\n",
       "\n",
       "| <!--/--> | average_ride_length &lt;drtn&gt; | median_ride_length &lt;drtn&gt; | max_ride_length &lt;drtn&gt; |\n",
       "|---|---|---|---|\n",
       "| 1 | 17.24258 mins | 10.66667 mins | 34354.07 mins |\n",
       "\n"
      ],
      "text/plain": [
       "  average_ride_length median_ride_length max_ride_length\n",
       "1 17.24258 mins       10.66667 mins      34354.07 mins  "
      ]
     },
     "metadata": {},
     "output_type": "display_data"
    }
   ],
   "source": [
    "## Members ride length mean,median,max\n",
    "stats <- df %>% \n",
    "  group_by(member_casual) %>% \n",
    "  summarise(average_ride_length = mean(ride_length), median_ride_length = median(ride_length), max_ride_length = max(ride_length))\n",
    "head(stats)"
   ]
  },
  {
   "cell_type": "code",
   "execution_count": 8,
   "id": "6dff2a57",
   "metadata": {
    "execution": {
     "iopub.execute_input": "2022-12-11T15:19:49.627647Z",
     "iopub.status.busy": "2022-12-11T15:19:49.626187Z",
     "iopub.status.idle": "2022-12-11T15:19:49.848368Z",
     "shell.execute_reply": "2022-12-11T15:19:49.846612Z"
    },
    "papermill": {
     "duration": 0.235697,
     "end_time": "2022-12-11T15:19:49.851361",
     "exception": false,
     "start_time": "2022-12-11T15:19:49.615664",
     "status": "completed"
    },
    "tags": []
   },
   "outputs": [
    {
     "name": "stdout",
     "output_type": "stream",
     "text": [
      "[1] \"Saturday\"\n"
     ]
    }
   ],
   "source": [
    "# Determine the mode for the day of the week\n",
    "\n",
    "getmode <- function(v) {\n",
    "  uniqv <- unique(v)\n",
    "  uniqv[which.max(tabulate(match(v, uniqv)))]\n",
    "}\n",
    "\n",
    "weekday_mode <- getmode(df$day_of_week)\n",
    "\n",
    "print(weekday_mode)"
   ]
  },
  {
   "cell_type": "code",
   "execution_count": 9,
   "id": "c9578b9c",
   "metadata": {
    "execution": {
     "iopub.execute_input": "2022-12-11T15:19:49.873294Z",
     "iopub.status.busy": "2022-12-11T15:19:49.871648Z",
     "iopub.status.idle": "2022-12-11T15:19:51.302039Z",
     "shell.execute_reply": "2022-12-11T15:19:51.300204Z"
    },
    "papermill": {
     "duration": 1.443898,
     "end_time": "2022-12-11T15:19:51.304673",
     "exception": false,
     "start_time": "2022-12-11T15:19:49.860775",
     "status": "completed"
    },
    "tags": []
   },
   "outputs": [
    {
     "name": "stderr",
     "output_type": "stream",
     "text": [
      "\u001b[1m\u001b[22m`summarise()` has grouped output by 'member_casual'. You can override using the\n",
      "`.groups` argument.\n"
     ]
    },
    {
     "data": {
      "text/html": [
       "<table class=\"dataframe\">\n",
       "<caption>A grouped_df: 14 × 4</caption>\n",
       "<thead>\n",
       "\t<tr><th scope=col>member_casual</th><th scope=col>day_of_week</th><th scope=col>rider_type_total</th><th scope=col>average_ride_length</th></tr>\n",
       "\t<tr><th scope=col>&lt;chr&gt;</th><th scope=col>&lt;chr&gt;</th><th scope=col>&lt;int&gt;</th><th scope=col>&lt;drtn&gt;</th></tr>\n",
       "</thead>\n",
       "<tbody>\n",
       "\t<tr><td>casual</td><td>Friday   </td><td>249705</td><td>22.67912 mins</td></tr>\n",
       "\t<tr><td>casual</td><td>Monday   </td><td>214274</td><td>25.27778 mins</td></tr>\n",
       "\t<tr><td>casual</td><td>Saturday </td><td>375143</td><td>26.95648 mins</td></tr>\n",
       "\t<tr><td>casual</td><td>Sunday   </td><td>306079</td><td>27.63907 mins</td></tr>\n",
       "\t<tr><td>casual</td><td>Thursday </td><td>225780</td><td>21.88640 mins</td></tr>\n",
       "\t<tr><td>casual</td><td>Tuesday  </td><td>194925</td><td>21.85213 mins</td></tr>\n",
       "\t<tr><td>casual</td><td>Wednesday</td><td>202236</td><td>21.20102 mins</td></tr>\n",
       "\t<tr><td>member</td><td>Friday   </td><td>365079</td><td>12.21082 mins</td></tr>\n",
       "\t<tr><td>member</td><td>Monday   </td><td>385921</td><td>12.01345 mins</td></tr>\n",
       "\t<tr><td>member</td><td>Saturday </td><td>345761</td><td>14.02976 mins</td></tr>\n",
       "\t<tr><td>member</td><td>Sunday   </td><td>303017</td><td>13.87083 mins</td></tr>\n",
       "\t<tr><td>member</td><td>Thursday </td><td>413467</td><td>12.01554 mins</td></tr>\n",
       "\t<tr><td>member</td><td>Tuesday  </td><td>413636</td><td>11.78165 mins</td></tr>\n",
       "\t<tr><td>member</td><td>Wednesday</td><td>415339</td><td>11.83639 mins</td></tr>\n",
       "</tbody>\n",
       "</table>\n"
      ],
      "text/latex": [
       "A grouped\\_df: 14 × 4\n",
       "\\begin{tabular}{llll}\n",
       " member\\_casual & day\\_of\\_week & rider\\_type\\_total & average\\_ride\\_length\\\\\n",
       " <chr> & <chr> & <int> & <drtn>\\\\\n",
       "\\hline\n",
       "\t casual & Friday    & 249705 & 22.67912 mins\\\\\n",
       "\t casual & Monday    & 214274 & 25.27778 mins\\\\\n",
       "\t casual & Saturday  & 375143 & 26.95648 mins\\\\\n",
       "\t casual & Sunday    & 306079 & 27.63907 mins\\\\\n",
       "\t casual & Thursday  & 225780 & 21.88640 mins\\\\\n",
       "\t casual & Tuesday   & 194925 & 21.85213 mins\\\\\n",
       "\t casual & Wednesday & 202236 & 21.20102 mins\\\\\n",
       "\t member & Friday    & 365079 & 12.21082 mins\\\\\n",
       "\t member & Monday    & 385921 & 12.01345 mins\\\\\n",
       "\t member & Saturday  & 345761 & 14.02976 mins\\\\\n",
       "\t member & Sunday    & 303017 & 13.87083 mins\\\\\n",
       "\t member & Thursday  & 413467 & 12.01554 mins\\\\\n",
       "\t member & Tuesday   & 413636 & 11.78165 mins\\\\\n",
       "\t member & Wednesday & 415339 & 11.83639 mins\\\\\n",
       "\\end{tabular}\n"
      ],
      "text/markdown": [
       "\n",
       "A grouped_df: 14 × 4\n",
       "\n",
       "| member_casual &lt;chr&gt; | day_of_week &lt;chr&gt; | rider_type_total &lt;int&gt; | average_ride_length &lt;drtn&gt; |\n",
       "|---|---|---|---|\n",
       "| casual | Friday    | 249705 | 22.67912 mins |\n",
       "| casual | Monday    | 214274 | 25.27778 mins |\n",
       "| casual | Saturday  | 375143 | 26.95648 mins |\n",
       "| casual | Sunday    | 306079 | 27.63907 mins |\n",
       "| casual | Thursday  | 225780 | 21.88640 mins |\n",
       "| casual | Tuesday   | 194925 | 21.85213 mins |\n",
       "| casual | Wednesday | 202236 | 21.20102 mins |\n",
       "| member | Friday    | 365079 | 12.21082 mins |\n",
       "| member | Monday    | 385921 | 12.01345 mins |\n",
       "| member | Saturday  | 345761 | 14.02976 mins |\n",
       "| member | Sunday    | 303017 | 13.87083 mins |\n",
       "| member | Thursday  | 413467 | 12.01554 mins |\n",
       "| member | Tuesday   | 413636 | 11.78165 mins |\n",
       "| member | Wednesday | 415339 | 11.83639 mins |\n",
       "\n"
      ],
      "text/plain": [
       "   member_casual day_of_week rider_type_total average_ride_length\n",
       "1  casual        Friday      249705           22.67912 mins      \n",
       "2  casual        Monday      214274           25.27778 mins      \n",
       "3  casual        Saturday    375143           26.95648 mins      \n",
       "4  casual        Sunday      306079           27.63907 mins      \n",
       "5  casual        Thursday    225780           21.88640 mins      \n",
       "6  casual        Tuesday     194925           21.85213 mins      \n",
       "7  casual        Wednesday   202236           21.20102 mins      \n",
       "8  member        Friday      365079           12.21082 mins      \n",
       "9  member        Monday      385921           12.01345 mins      \n",
       "10 member        Saturday    345761           14.02976 mins      \n",
       "11 member        Sunday      303017           13.87083 mins      \n",
       "12 member        Thursday    413467           12.01554 mins      \n",
       "13 member        Tuesday     413636           11.78165 mins      \n",
       "14 member        Wednesday   415339           11.83639 mins      "
      ]
     },
     "metadata": {},
     "output_type": "display_data"
    }
   ],
   "source": [
    "## Determining the most popular day by rider type\n",
    "popular <- df %>% \n",
    "            group_by(member_casual, day_of_week) %>% \n",
    "            dplyr::summarise(rider_type_total = n(), average_ride_length = mean(ride_length)) %>% \n",
    "            arrange(member_casual, day_of_week)\n",
    "View(popular)"
   ]
  },
  {
   "cell_type": "code",
   "execution_count": 10,
   "id": "4341befa",
   "metadata": {
    "execution": {
     "iopub.execute_input": "2022-12-11T15:19:51.327393Z",
     "iopub.status.busy": "2022-12-11T15:19:51.325753Z",
     "iopub.status.idle": "2022-12-11T15:19:51.532297Z",
     "shell.execute_reply": "2022-12-11T15:19:51.530447Z"
    },
    "papermill": {
     "duration": 0.221225,
     "end_time": "2022-12-11T15:19:51.535667",
     "exception": false,
     "start_time": "2022-12-11T15:19:51.314442",
     "status": "completed"
    },
    "tags": []
   },
   "outputs": [
    {
     "data": {
      "text/html": [
       "<table class=\"dataframe\">\n",
       "<caption>A tibble: 12 × 4</caption>\n",
       "<thead>\n",
       "\t<tr><th scope=col>month</th><th scope=col>number_of_rides</th><th scope=col>average_duration</th><th scope=col>total_ride</th></tr>\n",
       "\t<tr><th scope=col>&lt;chr&gt;</th><th scope=col>&lt;int&gt;</th><th scope=col>&lt;drtn&gt;</th><th scope=col>&lt;drtn&gt;</th></tr>\n",
       "</thead>\n",
       "<tbody>\n",
       "\t<tr><td>Jul</td><td>642666</td><td>19.12404 mins</td><td>12290373 mins</td></tr>\n",
       "\t<tr><td>Jun</td><td>620348</td><td>19.02044 mins</td><td>11799289 mins</td></tr>\n",
       "\t<tr><td>Aug</td><td>605313</td><td>17.64761 mins</td><td>10682330 mins</td></tr>\n",
       "\t<tr><td>Sep</td><td>535138</td><td>16.41246 mins</td><td> 8782933 mins</td></tr>\n",
       "\t<tr><td>May</td><td>502545</td><td>19.61353 mins</td><td> 9856679 mins</td></tr>\n",
       "\t<tr><td>Oct</td><td>414267</td><td>14.88681 mins</td><td> 6167114 mins</td></tr>\n",
       "\t<tr><td>Apr</td><td>272560</td><td>16.44344 mins</td><td> 4481824 mins</td></tr>\n",
       "\t<tr><td>Nov</td><td>255867</td><td>14.10437 mins</td><td> 3608843 mins</td></tr>\n",
       "\t<tr><td>Mar</td><td>215981</td><td>16.97047 mins</td><td> 3665298 mins</td></tr>\n",
       "\t<tr><td>Dec</td><td>176371</td><td>14.22622 mins</td><td> 2509093 mins</td></tr>\n",
       "\t<tr><td>Feb</td><td> 89178</td><td>13.05249 mins</td><td> 1163995 mins</td></tr>\n",
       "\t<tr><td>Jan</td><td> 80128</td><td>12.95763 mins</td><td> 1038269 mins</td></tr>\n",
       "</tbody>\n",
       "</table>\n"
      ],
      "text/latex": [
       "A tibble: 12 × 4\n",
       "\\begin{tabular}{llll}\n",
       " month & number\\_of\\_rides & average\\_duration & total\\_ride\\\\\n",
       " <chr> & <int> & <drtn> & <drtn>\\\\\n",
       "\\hline\n",
       "\t Jul & 642666 & 19.12404 mins & 12290373 mins\\\\\n",
       "\t Jun & 620348 & 19.02044 mins & 11799289 mins\\\\\n",
       "\t Aug & 605313 & 17.64761 mins & 10682330 mins\\\\\n",
       "\t Sep & 535138 & 16.41246 mins &  8782933 mins\\\\\n",
       "\t May & 502545 & 19.61353 mins &  9856679 mins\\\\\n",
       "\t Oct & 414267 & 14.88681 mins &  6167114 mins\\\\\n",
       "\t Apr & 272560 & 16.44344 mins &  4481824 mins\\\\\n",
       "\t Nov & 255867 & 14.10437 mins &  3608843 mins\\\\\n",
       "\t Mar & 215981 & 16.97047 mins &  3665298 mins\\\\\n",
       "\t Dec & 176371 & 14.22622 mins &  2509093 mins\\\\\n",
       "\t Feb &  89178 & 13.05249 mins &  1163995 mins\\\\\n",
       "\t Jan &  80128 & 12.95763 mins &  1038269 mins\\\\\n",
       "\\end{tabular}\n"
      ],
      "text/markdown": [
       "\n",
       "A tibble: 12 × 4\n",
       "\n",
       "| month &lt;chr&gt; | number_of_rides &lt;int&gt; | average_duration &lt;drtn&gt; | total_ride &lt;drtn&gt; |\n",
       "|---|---|---|---|\n",
       "| Jul | 642666 | 19.12404 mins | 12290373 mins |\n",
       "| Jun | 620348 | 19.02044 mins | 11799289 mins |\n",
       "| Aug | 605313 | 17.64761 mins | 10682330 mins |\n",
       "| Sep | 535138 | 16.41246 mins |  8782933 mins |\n",
       "| May | 502545 | 19.61353 mins |  9856679 mins |\n",
       "| Oct | 414267 | 14.88681 mins |  6167114 mins |\n",
       "| Apr | 272560 | 16.44344 mins |  4481824 mins |\n",
       "| Nov | 255867 | 14.10437 mins |  3608843 mins |\n",
       "| Mar | 215981 | 16.97047 mins |  3665298 mins |\n",
       "| Dec | 176371 | 14.22622 mins |  2509093 mins |\n",
       "| Feb |  89178 | 13.05249 mins |  1163995 mins |\n",
       "| Jan |  80128 | 12.95763 mins |  1038269 mins |\n",
       "\n"
      ],
      "text/plain": [
       "   month number_of_rides average_duration total_ride   \n",
       "1  Jul   642666          19.12404 mins    12290373 mins\n",
       "2  Jun   620348          19.02044 mins    11799289 mins\n",
       "3  Aug   605313          17.64761 mins    10682330 mins\n",
       "4  Sep   535138          16.41246 mins     8782933 mins\n",
       "5  May   502545          19.61353 mins     9856679 mins\n",
       "6  Oct   414267          14.88681 mins     6167114 mins\n",
       "7  Apr   272560          16.44344 mins     4481824 mins\n",
       "8  Nov   255867          14.10437 mins     3608843 mins\n",
       "9  Mar   215981          16.97047 mins     3665298 mins\n",
       "10 Dec   176371          14.22622 mins     2509093 mins\n",
       "11 Feb    89178          13.05249 mins     1163995 mins\n",
       "12 Jan    80128          12.95763 mins     1038269 mins"
      ]
     },
     "metadata": {},
     "output_type": "display_data"
    }
   ],
   "source": [
    "## Popular_month\n",
    "\n",
    "popular_month <- df %>% \n",
    "  group_by(month) %>% \n",
    "  dplyr::summarise(number_of_rides = n(), average_duration = mean(ride_length),total_ride = sum(ride_length)) %>% \n",
    "  arrange(-number_of_rides)\n",
    "View(popular_month)"
   ]
  },
  {
   "cell_type": "markdown",
   "id": "57e2e68f",
   "metadata": {
    "papermill": {
     "duration": 0.009455,
     "end_time": "2022-12-11T15:19:51.554786",
     "exception": false,
     "start_time": "2022-12-11T15:19:51.545331",
     "status": "completed"
    },
    "tags": []
   },
   "source": [
    "### Determine the most popular start and end stations for members and casuals"
   ]
  },
  {
   "cell_type": "code",
   "execution_count": 11,
   "id": "789c6bbd",
   "metadata": {
    "execution": {
     "iopub.execute_input": "2022-12-11T15:19:51.577925Z",
     "iopub.status.busy": "2022-12-11T15:19:51.576261Z",
     "iopub.status.idle": "2022-12-11T15:19:52.266575Z",
     "shell.execute_reply": "2022-12-11T15:19:52.263840Z"
    },
    "papermill": {
     "duration": 0.705241,
     "end_time": "2022-12-11T15:19:52.270067",
     "exception": false,
     "start_time": "2022-12-11T15:19:51.564826",
     "status": "completed"
    },
    "tags": []
   },
   "outputs": [
    {
     "data": {
      "text/html": [
       "<table class=\"dataframe\">\n",
       "<caption>A tibble: 6 × 2</caption>\n",
       "<thead>\n",
       "\t<tr><th scope=col>start_station_name</th><th scope=col>number_of_starts</th></tr>\n",
       "\t<tr><th scope=col>&lt;chr&gt;</th><th scope=col>&lt;int&gt;</th></tr>\n",
       "</thead>\n",
       "<tbody>\n",
       "\t<tr><td><span style=white-space:pre-wrap>Kingsbury St &amp; Kinzie St    </span></td><td>24408</td></tr>\n",
       "\t<tr><td><span style=white-space:pre-wrap>Clark St &amp; Elm St           </span></td><td>21252</td></tr>\n",
       "\t<tr><td><span style=white-space:pre-wrap>Wells St &amp; Concord Ln       </span></td><td>20310</td></tr>\n",
       "\t<tr><td>Clinton St &amp; Washington Blvd</td><td>19008</td></tr>\n",
       "\t<tr><td><span style=white-space:pre-wrap>Clinton St &amp; Madison St     </span></td><td>18512</td></tr>\n",
       "\t<tr><td><span style=white-space:pre-wrap>Loomis St &amp; Lexington St    </span></td><td>18477</td></tr>\n",
       "</tbody>\n",
       "</table>\n"
      ],
      "text/latex": [
       "A tibble: 6 × 2\n",
       "\\begin{tabular}{ll}\n",
       " start\\_station\\_name & number\\_of\\_starts\\\\\n",
       " <chr> & <int>\\\\\n",
       "\\hline\n",
       "\t Kingsbury St \\& Kinzie St     & 24408\\\\\n",
       "\t Clark St \\& Elm St            & 21252\\\\\n",
       "\t Wells St \\& Concord Ln        & 20310\\\\\n",
       "\t Clinton St \\& Washington Blvd & 19008\\\\\n",
       "\t Clinton St \\& Madison St      & 18512\\\\\n",
       "\t Loomis St \\& Lexington St     & 18477\\\\\n",
       "\\end{tabular}\n"
      ],
      "text/markdown": [
       "\n",
       "A tibble: 6 × 2\n",
       "\n",
       "| start_station_name &lt;chr&gt; | number_of_starts &lt;int&gt; |\n",
       "|---|---|\n",
       "| Kingsbury St &amp; Kinzie St     | 24408 |\n",
       "| Clark St &amp; Elm St            | 21252 |\n",
       "| Wells St &amp; Concord Ln        | 20310 |\n",
       "| Clinton St &amp; Washington Blvd | 19008 |\n",
       "| Clinton St &amp; Madison St      | 18512 |\n",
       "| Loomis St &amp; Lexington St     | 18477 |\n",
       "\n"
      ],
      "text/plain": [
       "  start_station_name           number_of_starts\n",
       "1 Kingsbury St & Kinzie St     24408           \n",
       "2 Clark St & Elm St            21252           \n",
       "3 Wells St & Concord Ln        20310           \n",
       "4 Clinton St & Washington Blvd 19008           \n",
       "5 Clinton St & Madison St      18512           \n",
       "6 Loomis St & Lexington St     18477           "
      ]
     },
     "metadata": {},
     "output_type": "display_data"
    },
    {
     "name": "stdout",
     "output_type": "stream",
     "text": [
      "[1] \"Most popular starting stations for Annual Members\"\n"
     ]
    }
   ],
   "source": [
    "popular_start_stations_member <- df %>% \n",
    "  filter(member_casual == 'member') %>% \n",
    "  group_by(start_station_name) %>% \n",
    "  dplyr::summarise(number_of_starts = n()) %>% \n",
    "  filter(start_station_name != \"\") %>% \n",
    "  arrange(- number_of_starts)\n",
    "\n",
    "head(popular_start_stations_member)\n",
    "print('Most popular starting stations for Annual Members')"
   ]
  },
  {
   "cell_type": "code",
   "execution_count": 12,
   "id": "b50fbad0",
   "metadata": {
    "execution": {
     "iopub.execute_input": "2022-12-11T15:19:52.293493Z",
     "iopub.status.busy": "2022-12-11T15:19:52.291815Z",
     "iopub.status.idle": "2022-12-11T15:19:53.021797Z",
     "shell.execute_reply": "2022-12-11T15:19:53.019488Z"
    },
    "papermill": {
     "duration": 0.744766,
     "end_time": "2022-12-11T15:19:53.024889",
     "exception": false,
     "start_time": "2022-12-11T15:19:52.280123",
     "status": "completed"
    },
    "tags": []
   },
   "outputs": [
    {
     "data": {
      "text/html": [
       "<table class=\"dataframe\">\n",
       "<caption>A tibble: 6 × 2</caption>\n",
       "<thead>\n",
       "\t<tr><th scope=col>end_station_name</th><th scope=col>number_of_ends</th></tr>\n",
       "\t<tr><th scope=col>&lt;chr&gt;</th><th scope=col>&lt;int&gt;</th></tr>\n",
       "</thead>\n",
       "<tbody>\n",
       "\t<tr><td><span style=white-space:pre-wrap>Kingsbury St &amp; Kinzie St    </span></td><td>23918</td></tr>\n",
       "\t<tr><td><span style=white-space:pre-wrap>Clark St &amp; Elm St           </span></td><td>21557</td></tr>\n",
       "\t<tr><td><span style=white-space:pre-wrap>Wells St &amp; Concord Ln       </span></td><td>20862</td></tr>\n",
       "\t<tr><td>Clinton St &amp; Washington Blvd</td><td>19673</td></tr>\n",
       "\t<tr><td><span style=white-space:pre-wrap>Clinton St &amp; Madison St     </span></td><td>18954</td></tr>\n",
       "\t<tr><td><span style=white-space:pre-wrap>University Ave &amp; 57th St    </span></td><td>18749</td></tr>\n",
       "</tbody>\n",
       "</table>\n"
      ],
      "text/latex": [
       "A tibble: 6 × 2\n",
       "\\begin{tabular}{ll}\n",
       " end\\_station\\_name & number\\_of\\_ends\\\\\n",
       " <chr> & <int>\\\\\n",
       "\\hline\n",
       "\t Kingsbury St \\& Kinzie St     & 23918\\\\\n",
       "\t Clark St \\& Elm St            & 21557\\\\\n",
       "\t Wells St \\& Concord Ln        & 20862\\\\\n",
       "\t Clinton St \\& Washington Blvd & 19673\\\\\n",
       "\t Clinton St \\& Madison St      & 18954\\\\\n",
       "\t University Ave \\& 57th St     & 18749\\\\\n",
       "\\end{tabular}\n"
      ],
      "text/markdown": [
       "\n",
       "A tibble: 6 × 2\n",
       "\n",
       "| end_station_name &lt;chr&gt; | number_of_ends &lt;int&gt; |\n",
       "|---|---|\n",
       "| Kingsbury St &amp; Kinzie St     | 23918 |\n",
       "| Clark St &amp; Elm St            | 21557 |\n",
       "| Wells St &amp; Concord Ln        | 20862 |\n",
       "| Clinton St &amp; Washington Blvd | 19673 |\n",
       "| Clinton St &amp; Madison St      | 18954 |\n",
       "| University Ave &amp; 57th St     | 18749 |\n",
       "\n"
      ],
      "text/plain": [
       "  end_station_name             number_of_ends\n",
       "1 Kingsbury St & Kinzie St     23918         \n",
       "2 Clark St & Elm St            21557         \n",
       "3 Wells St & Concord Ln        20862         \n",
       "4 Clinton St & Washington Blvd 19673         \n",
       "5 Clinton St & Madison St      18954         \n",
       "6 University Ave & 57th St     18749         "
      ]
     },
     "metadata": {},
     "output_type": "display_data"
    },
    {
     "name": "stdout",
     "output_type": "stream",
     "text": [
      "[1] \"Most popular ending stations for Annual Members\"\n"
     ]
    }
   ],
   "source": [
    "popular_end_stations_member <- df %>% \n",
    "  filter(member_casual == 'member') %>% \n",
    "  group_by(end_station_name) %>% \n",
    "  dplyr::summarise(number_of_ends = n()) %>% \n",
    "  filter(end_station_name != \"\") %>% \n",
    "  arrange(- number_of_ends)\n",
    "\n",
    "head(popular_end_stations_member)\n",
    "print('Most popular ending stations for Annual Members')"
   ]
  },
  {
   "cell_type": "code",
   "execution_count": 13,
   "id": "be26e1d6",
   "metadata": {
    "execution": {
     "iopub.execute_input": "2022-12-11T15:19:53.050193Z",
     "iopub.status.busy": "2022-12-11T15:19:53.047674Z",
     "iopub.status.idle": "2022-12-11T15:19:53.755317Z",
     "shell.execute_reply": "2022-12-11T15:19:53.753346Z"
    },
    "papermill": {
     "duration": 0.723023,
     "end_time": "2022-12-11T15:19:53.758429",
     "exception": false,
     "start_time": "2022-12-11T15:19:53.035406",
     "status": "completed"
    },
    "tags": []
   },
   "outputs": [
    {
     "data": {
      "text/html": [
       "<table class=\"dataframe\">\n",
       "<caption>A tibble: 6 × 2</caption>\n",
       "<thead>\n",
       "\t<tr><th scope=col>start_station_name</th><th scope=col>number_of_starts</th></tr>\n",
       "\t<tr><th scope=col>&lt;chr&gt;</th><th scope=col>&lt;int&gt;</th></tr>\n",
       "</thead>\n",
       "<tbody>\n",
       "\t<tr><td><span style=white-space:pre-wrap>Streeter Dr &amp; Grand Ave           </span></td><td>55301</td></tr>\n",
       "\t<tr><td>DuSable Lake Shore Dr &amp; Monroe St </td><td>30947</td></tr>\n",
       "\t<tr><td>Millennium Park                   </td><td>24360</td></tr>\n",
       "\t<tr><td><span style=white-space:pre-wrap>Michigan Ave &amp; Oak St             </span></td><td>23796</td></tr>\n",
       "\t<tr><td>DuSable Lake Shore Dr &amp; North Blvd</td><td>22275</td></tr>\n",
       "\t<tr><td>Shedd Aquarium                    </td><td>19586</td></tr>\n",
       "</tbody>\n",
       "</table>\n"
      ],
      "text/latex": [
       "A tibble: 6 × 2\n",
       "\\begin{tabular}{ll}\n",
       " start\\_station\\_name & number\\_of\\_starts\\\\\n",
       " <chr> & <int>\\\\\n",
       "\\hline\n",
       "\t Streeter Dr \\& Grand Ave            & 55301\\\\\n",
       "\t DuSable Lake Shore Dr \\& Monroe St  & 30947\\\\\n",
       "\t Millennium Park                    & 24360\\\\\n",
       "\t Michigan Ave \\& Oak St              & 23796\\\\\n",
       "\t DuSable Lake Shore Dr \\& North Blvd & 22275\\\\\n",
       "\t Shedd Aquarium                     & 19586\\\\\n",
       "\\end{tabular}\n"
      ],
      "text/markdown": [
       "\n",
       "A tibble: 6 × 2\n",
       "\n",
       "| start_station_name &lt;chr&gt; | number_of_starts &lt;int&gt; |\n",
       "|---|---|\n",
       "| Streeter Dr &amp; Grand Ave            | 55301 |\n",
       "| DuSable Lake Shore Dr &amp; Monroe St  | 30947 |\n",
       "| Millennium Park                    | 24360 |\n",
       "| Michigan Ave &amp; Oak St              | 23796 |\n",
       "| DuSable Lake Shore Dr &amp; North Blvd | 22275 |\n",
       "| Shedd Aquarium                     | 19586 |\n",
       "\n"
      ],
      "text/plain": [
       "  start_station_name                 number_of_starts\n",
       "1 Streeter Dr & Grand Ave            55301           \n",
       "2 DuSable Lake Shore Dr & Monroe St  30947           \n",
       "3 Millennium Park                    24360           \n",
       "4 Michigan Ave & Oak St              23796           \n",
       "5 DuSable Lake Shore Dr & North Blvd 22275           \n",
       "6 Shedd Aquarium                     19586           "
      ]
     },
     "metadata": {},
     "output_type": "display_data"
    },
    {
     "name": "stdout",
     "output_type": "stream",
     "text": [
      "[1] \"Most popular starting stations for Casual Riders\"\n"
     ]
    }
   ],
   "source": [
    "popular_start_stations_casual <- df %>% \n",
    "  filter(member_casual == 'casual') %>% \n",
    "  group_by(start_station_name) %>% \n",
    "  dplyr::summarise(number_of_starts = n()) %>% \n",
    "  filter(start_station_name != \"\") %>% \n",
    "  arrange(- number_of_starts)\n",
    "\n",
    "head(popular_start_stations_casual)\n",
    "print('Most popular starting stations for Casual Riders')"
   ]
  },
  {
   "cell_type": "code",
   "execution_count": 14,
   "id": "54441d31",
   "metadata": {
    "execution": {
     "iopub.execute_input": "2022-12-11T15:19:53.782881Z",
     "iopub.status.busy": "2022-12-11T15:19:53.781349Z",
     "iopub.status.idle": "2022-12-11T15:19:54.185618Z",
     "shell.execute_reply": "2022-12-11T15:19:54.183467Z"
    },
    "papermill": {
     "duration": 0.420402,
     "end_time": "2022-12-11T15:19:54.189245",
     "exception": false,
     "start_time": "2022-12-11T15:19:53.768843",
     "status": "completed"
    },
    "tags": []
   },
   "outputs": [
    {
     "data": {
      "text/html": [
       "<table class=\"dataframe\">\n",
       "<caption>A tibble: 6 × 2</caption>\n",
       "<thead>\n",
       "\t<tr><th scope=col>end_station_name</th><th scope=col>number_of_ends</th></tr>\n",
       "\t<tr><th scope=col>&lt;chr&gt;</th><th scope=col>&lt;int&gt;</th></tr>\n",
       "</thead>\n",
       "<tbody>\n",
       "\t<tr><td><span style=white-space:pre-wrap>Streeter Dr &amp; Grand Ave           </span></td><td>58188</td></tr>\n",
       "\t<tr><td>DuSable Lake Shore Dr &amp; Monroe St </td><td>28930</td></tr>\n",
       "\t<tr><td>Millennium Park                   </td><td>26173</td></tr>\n",
       "\t<tr><td><span style=white-space:pre-wrap>Michigan Ave &amp; Oak St             </span></td><td>25495</td></tr>\n",
       "\t<tr><td>DuSable Lake Shore Dr &amp; North Blvd</td><td>25410</td></tr>\n",
       "\t<tr><td>Theater on the Lake               </td><td>18790</td></tr>\n",
       "</tbody>\n",
       "</table>\n"
      ],
      "text/latex": [
       "A tibble: 6 × 2\n",
       "\\begin{tabular}{ll}\n",
       " end\\_station\\_name & number\\_of\\_ends\\\\\n",
       " <chr> & <int>\\\\\n",
       "\\hline\n",
       "\t Streeter Dr \\& Grand Ave            & 58188\\\\\n",
       "\t DuSable Lake Shore Dr \\& Monroe St  & 28930\\\\\n",
       "\t Millennium Park                    & 26173\\\\\n",
       "\t Michigan Ave \\& Oak St              & 25495\\\\\n",
       "\t DuSable Lake Shore Dr \\& North Blvd & 25410\\\\\n",
       "\t Theater on the Lake                & 18790\\\\\n",
       "\\end{tabular}\n"
      ],
      "text/markdown": [
       "\n",
       "A tibble: 6 × 2\n",
       "\n",
       "| end_station_name &lt;chr&gt; | number_of_ends &lt;int&gt; |\n",
       "|---|---|\n",
       "| Streeter Dr &amp; Grand Ave            | 58188 |\n",
       "| DuSable Lake Shore Dr &amp; Monroe St  | 28930 |\n",
       "| Millennium Park                    | 26173 |\n",
       "| Michigan Ave &amp; Oak St              | 25495 |\n",
       "| DuSable Lake Shore Dr &amp; North Blvd | 25410 |\n",
       "| Theater on the Lake                | 18790 |\n",
       "\n"
      ],
      "text/plain": [
       "  end_station_name                   number_of_ends\n",
       "1 Streeter Dr & Grand Ave            58188         \n",
       "2 DuSable Lake Shore Dr & Monroe St  28930         \n",
       "3 Millennium Park                    26173         \n",
       "4 Michigan Ave & Oak St              25495         \n",
       "5 DuSable Lake Shore Dr & North Blvd 25410         \n",
       "6 Theater on the Lake                18790         "
      ]
     },
     "metadata": {},
     "output_type": "display_data"
    },
    {
     "name": "stdout",
     "output_type": "stream",
     "text": [
      "[1] \"Most popular ending stations for Casual Riders\"\n"
     ]
    }
   ],
   "source": [
    "popular_end_stations_casual <- df %>% \n",
    "  filter(member_casual == 'casual') %>% \n",
    "  group_by(end_station_name) %>% \n",
    "  dplyr::summarise(number_of_ends = n()) %>% \n",
    "  filter(end_station_name != \"\") %>% \n",
    "  arrange(- number_of_ends)\n",
    "\n",
    "head(popular_end_stations_casual)\n",
    "print('Most popular ending stations for Casual Riders')"
   ]
  },
  {
   "cell_type": "markdown",
   "id": "6a2087fb",
   "metadata": {
    "papermill": {
     "duration": 0.012505,
     "end_time": "2022-12-11T15:19:54.213765",
     "exception": false,
     "start_time": "2022-12-11T15:19:54.201260",
     "status": "completed"
    },
    "tags": []
   },
   "source": [
    "### Casual / Member Percentages"
   ]
  },
  {
   "cell_type": "code",
   "execution_count": 15,
   "id": "0f1f62e4",
   "metadata": {
    "execution": {
     "iopub.execute_input": "2022-12-11T15:19:54.240521Z",
     "iopub.status.busy": "2022-12-11T15:19:54.238884Z",
     "iopub.status.idle": "2022-12-11T15:19:54.488770Z",
     "shell.execute_reply": "2022-12-11T15:19:54.486895Z"
    },
    "papermill": {
     "duration": 0.266767,
     "end_time": "2022-12-11T15:19:54.491731",
     "exception": false,
     "start_time": "2022-12-11T15:19:54.224964",
     "status": "completed"
    },
    "tags": []
   },
   "outputs": [
    {
     "name": "stdout",
     "output_type": "stream",
     "text": [
      "[1] \"Casual / Member percentages\"\n",
      "\n",
      "  casual   member \n",
      "40.09063 59.90937 \n"
     ]
    }
   ],
   "source": [
    "# Casual / Member Percentages\n",
    "casual_member_percentages <- (table(df$member_casual)/length(df$member_casual))*100\n",
    "print(\"Casual / Member percentages\")\n",
    "print(casual_member_percentages)"
   ]
  },
  {
   "cell_type": "code",
   "execution_count": 16,
   "id": "1a1ceb5a",
   "metadata": {
    "execution": {
     "iopub.execute_input": "2022-12-11T15:19:54.516801Z",
     "iopub.status.busy": "2022-12-11T15:19:54.515234Z",
     "iopub.status.idle": "2022-12-11T15:19:55.126591Z",
     "shell.execute_reply": "2022-12-11T15:19:55.124370Z"
    },
    "papermill": {
     "duration": 0.626827,
     "end_time": "2022-12-11T15:19:55.129252",
     "exception": false,
     "start_time": "2022-12-11T15:19:54.502425",
     "status": "completed"
    },
    "tags": []
   },
   "outputs": [
    {
     "name": "stdout",
     "output_type": "stream",
     "text": [
      "\n",
      " classic_bike   docked_bike electric_bike \n",
      "    59.713148      4.072908     36.213943 \n",
      "[1] \"Rideable bike  type percentages\"\n"
     ]
    }
   ],
   "source": [
    "rideable_percentages <- (table(df$rideable_type)/length(df$rideable_type))*100\n",
    "print(rideable_percentages)\n",
    "print('Rideable bike  type percentages')"
   ]
  },
  {
   "cell_type": "code",
   "execution_count": 17,
   "id": "6dad9cf1",
   "metadata": {
    "execution": {
     "iopub.execute_input": "2022-12-11T15:19:55.154753Z",
     "iopub.status.busy": "2022-12-11T15:19:55.153052Z",
     "iopub.status.idle": "2022-12-11T15:19:55.388625Z",
     "shell.execute_reply": "2022-12-11T15:19:55.386050Z"
    },
    "papermill": {
     "duration": 0.251124,
     "end_time": "2022-12-11T15:19:55.391558",
     "exception": false,
     "start_time": "2022-12-11T15:19:55.140434",
     "status": "completed"
    },
    "tags": []
   },
   "outputs": [
    {
     "name": "stdout",
     "output_type": "stream",
     "text": [
      "\n",
      "   Friday    Monday  Saturday    Sunday  Thursday   Tuesday Wednesday \n",
      " 13.93954  13.60875  16.34569  13.81057  14.49421  13.79844  14.00282 \n"
     ]
    }
   ],
   "source": [
    "day_percentages <- (table(df$day_of_week)/length(df$day_of_week))*100\n",
    "\n",
    "print(day_percentages)\n"
   ]
  },
  {
   "cell_type": "code",
   "execution_count": 18,
   "id": "40c580af",
   "metadata": {
    "execution": {
     "iopub.execute_input": "2022-12-11T15:19:55.416974Z",
     "iopub.status.busy": "2022-12-11T15:19:55.415478Z",
     "iopub.status.idle": "2022-12-11T15:19:57.947266Z",
     "shell.execute_reply": "2022-12-11T15:19:57.945451Z"
    },
    "papermill": {
     "duration": 2.547176,
     "end_time": "2022-12-11T15:19:57.949708",
     "exception": false,
     "start_time": "2022-12-11T15:19:55.402532",
     "status": "completed"
    },
    "tags": []
   },
   "outputs": [
    {
     "name": "stdout",
     "output_type": "stream",
     "text": [
      "\n",
      " classic_bike electric_bike \n",
      "     65.81435      34.18565 \n",
      "[1] \"Rideable bike  type percentages for members\"\n"
     ]
    }
   ],
   "source": [
    "dfmember <-df[!(df$member_casual==\"casual\"),]\n",
    "dfcasual <-df[!(df$member_casual==\"member\"),]\n",
    "\n",
    "rideable_percentages_members <- (table(dfmember$rideable_type)/length(dfmember$rideable_type))*100\n",
    "print(rideable_percentages_members)\n",
    "print('Rideable bike  type percentages for members')"
   ]
  },
  {
   "cell_type": "code",
   "execution_count": 19,
   "id": "c562f42a",
   "metadata": {
    "execution": {
     "iopub.execute_input": "2022-12-11T15:19:57.975984Z",
     "iopub.status.busy": "2022-12-11T15:19:57.974459Z",
     "iopub.status.idle": "2022-12-11T15:19:58.426446Z",
     "shell.execute_reply": "2022-12-11T15:19:58.424672Z"
    },
    "papermill": {
     "duration": 0.467154,
     "end_time": "2022-12-11T15:19:58.428830",
     "exception": false,
     "start_time": "2022-12-11T15:19:57.961676",
     "status": "completed"
    },
    "tags": []
   },
   "outputs": [
    {
     "name": "stdout",
     "output_type": "stream",
     "text": [
      "\n",
      " classic_bike   docked_bike electric_bike \n",
      "     50.59582      10.15925      39.24492 \n",
      "[1] \"Rideable bike  type percentages for casuals\"\n"
     ]
    }
   ],
   "source": [
    "rideable_percentages_casuals <- (table(dfcasual$rideable_type)/length(dfcasual$rideable_type))*100\n",
    "print(rideable_percentages_casuals)\n",
    "print('Rideable bike  type percentages for casuals')"
   ]
  },
  {
   "cell_type": "markdown",
   "id": "6289ab6c",
   "metadata": {
    "papermill": {
     "duration": 0.01135,
     "end_time": "2022-12-11T15:19:58.451207",
     "exception": false,
     "start_time": "2022-12-11T15:19:58.439857",
     "status": "completed"
    },
    "tags": []
   },
   "source": [
    "# Data Visualization"
   ]
  },
  {
   "cell_type": "code",
   "execution_count": 20,
   "id": "04d9962f",
   "metadata": {
    "execution": {
     "iopub.execute_input": "2022-12-11T15:19:58.476796Z",
     "iopub.status.busy": "2022-12-11T15:19:58.475165Z",
     "iopub.status.idle": "2022-12-11T15:19:59.207783Z",
     "shell.execute_reply": "2022-12-11T15:19:59.205845Z"
    },
    "papermill": {
     "duration": 0.748064,
     "end_time": "2022-12-11T15:19:59.210320",
     "exception": false,
     "start_time": "2022-12-11T15:19:58.462256",
     "status": "completed"
    },
    "tags": []
   },
   "outputs": [
    {
     "data": {
      "image/png": "[encoded data removed]"
     },
     "metadata": {
      "image/png": {
       "height": 420,
       "width": 420
      }
     },
     "output_type": "display_data"
    }
   ],
   "source": [
    "df %>% \n",
    "  group_by(member_casual) %>% \n",
    "  dplyr::summarise(total_rider_type = n()) %>% \n",
    "  ggplot(aes(x = member_casual, y = total_rider_type, fill = member_casual)) + \n",
    "  geom_col(position = \"dodge\") + geom_text(aes(label = total_rider_type, vjust = -0.40))\n"
   ]
  },
  {
   "cell_type": "code",
   "execution_count": 21,
   "id": "d44c2a2f",
   "metadata": {
    "execution": {
     "iopub.execute_input": "2022-12-11T15:19:59.237945Z",
     "iopub.status.busy": "2022-12-11T15:19:59.236274Z",
     "iopub.status.idle": "2022-12-11T15:19:59.825630Z",
     "shell.execute_reply": "2022-12-11T15:19:59.822847Z"
    },
    "papermill": {
     "duration": 0.605902,
     "end_time": "2022-12-11T15:19:59.828772",
     "exception": false,
     "start_time": "2022-12-11T15:19:59.222870",
     "status": "completed"
    },
    "tags": []
   },
   "outputs": [
    {
     "name": "stderr",
     "output_type": "stream",
     "text": [
      "\u001b[1m\u001b[22m`summarise()` has grouped output by 'member_casual'. You can override using the\n",
      "`.groups` argument.\n",
      "Don't know how to automatically pick scale for object of type difftime. Defaulting to continuous.\n",
      "\n"
     ]
    },
    {
     "data": {
      "image/png": "[encoded data removed]"
     },
     "metadata": {
      "image/png": {
       "height": 420,
       "width": 420
      }
     },
     "output_type": "display_data"
    }
   ],
   "source": [
    "df %>% \n",
    "  group_by(member_casual, day_of_week) %>% \n",
    "  dplyr::summarise(number_of_rides = n(),average_duration = mean(ride_length)) %>% \n",
    "  arrange(member_casual, day_of_week)  %>% \n",
    "  ggplot(aes(x = day_of_week, y = average_duration, fill = member_casual)) +\n",
    "  geom_col(position = \"dodge\")\n"
   ]
  },
  {
   "cell_type": "code",
   "execution_count": 22,
   "id": "554a4bff",
   "metadata": {
    "execution": {
     "iopub.execute_input": "2022-12-11T15:19:59.856500Z",
     "iopub.status.busy": "2022-12-11T15:19:59.854828Z",
     "iopub.status.idle": "2022-12-11T15:20:00.451568Z",
     "shell.execute_reply": "2022-12-11T15:20:00.448665Z"
    },
    "papermill": {
     "duration": 0.613905,
     "end_time": "2022-12-11T15:20:00.454867",
     "exception": false,
     "start_time": "2022-12-11T15:19:59.840962",
     "status": "completed"
    },
    "tags": []
   },
   "outputs": [
    {
     "name": "stderr",
     "output_type": "stream",
     "text": [
      "\u001b[1m\u001b[22m`summarise()` has grouped output by 'member_casual'. You can override using the\n",
      "`.groups` argument.\n"
     ]
    },
    {
     "data": {
      "image/png": "[encoded data removed]"
     },
     "metadata": {
      "image/png": {
       "height": 420,
       "width": 420
      }
     },
     "output_type": "display_data"
    }
   ],
   "source": [
    "df %>% \n",
    "  group_by(member_casual, day_of_week) %>% \n",
    "  dplyr::summarise(number_of_rides = n(),average_duration = mean(ride_length)) %>% \n",
    "  arrange(member_casual, day_of_week)  %>% \n",
    "  ggplot(aes(x = day_of_week, y = number_of_rides, fill = member_casual)) +\n",
    "  geom_col(position = \"dodge\")"
   ]
  },
  {
   "cell_type": "markdown",
   "id": "b3f62a14",
   "metadata": {
    "papermill": {
     "duration": 0.013003,
     "end_time": "2022-12-11T15:20:00.480648",
     "exception": false,
     "start_time": "2022-12-11T15:20:00.467645",
     "status": "completed"
    },
    "tags": []
   },
   "source": [
    "# Conclusion\n",
    "\n",
    "#### In this project, I analyzed data to find what differs annual member and casual rider. \n",
    "\n",
    "I have analysed:\n",
    "* Number of Casuals vs members.\n",
    "* Bike usage distribution for Members and Casuals.\n",
    "* Monthly and daily distribution of data.\n",
    "* Annual members' ride length, (mean,median,max).\n",
    "* Most popular days by riders.\n",
    "* Most popular start and end stations for Members and Casuals.\n",
    "\n",
    "I have visualized\n",
    "* Total number of Casual Riders and Annual Members.\n",
    "* Average duration in weekdays for user types.\n",
    "* Number of rides by weekdays.\n",
    "\n",
    "Trends or Relationships\n",
    "* Bikes are mostly used on Saturdays.\n",
    "* Usage increases during the summer months.\n",
    "* Casuals have more riding time.\n",
    "\n",
    "\n",
    "Thank you [Google](https://www.coursera.org/professional-certificates/google-data-analytics) for this tutorial series. I recommend for beginners."
   ]
  }
 ],
 "metadata": {
  "kernelspec": {
   "display_name": "R",
   "language": "R",
   "name": "ir"
  },
  "language_info": {
   "codemirror_mode": "r",
   "file_extension": ".r",
   "mimetype": "text/x-r-source",
   "name": "R",
   "pygments_lexer": "r",
   "version": "4.0.5"
  },
  "papermill": {
   "default_parameters": {},
   "duration": 87.71266,
   "end_time": "2022-12-11T15:20:00.718724",
   "environment_variables": {},
   "exception": null,
   "input_path": "__notebook__.ipynb",
   "output_path": "__notebook__.ipynb",
   "parameters": {},
   "start_time": "2022-12-11T15:18:33.006064",
   "version": "2.4.0"
  }
 },
 "nbformat": 4,
 "nbformat_minor": 5
}
